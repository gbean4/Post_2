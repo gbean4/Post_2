{
 "cells": [
  {
   "cell_type": "code",
   "execution_count": 2,
   "metadata": {},
   "outputs": [],
   "source": [
    "import pandas as pd\n",
    "import numpy as np\n",
    "import requests\n",
    "import re\n",
    "import urllib.parse\n",
    "import matplotlib.pyplot as plt\n",
    "import seaborn as sns\n",
    "import plotly.express as px\n",
    "from pathlib import Path\n",
    "import json\n",
    "from bs4 import BeautifulSoup\n",
    "from selenium import webdriver\n",
    "from selenium.webdriver.chrome.service import Service\n",
    "from selenium.webdriver.common.by import By\n",
    "from webdriver_manager.chrome import ChromeDriverManager"
   ]
  },
  {
   "cell_type": "code",
   "execution_count": 60,
   "metadata": {},
   "outputs": [],
   "source": [
    "#Mcdonalds Big Mac Index\n",
    "Mcdf = pd.read_json(\"big-mac-index-by-state-2024.json\")  # Read JSON file directly\n"
   ]
  },
  {
   "cell_type": "code",
   "execution_count": 13,
   "metadata": {},
   "outputs": [],
   "source": [
    "#Minimum Wage data\n",
    "#excel to dataframe\n",
    "minwagedf = pd.read_excel('statistic_id238997_us-minimum-wage-2024-by-state.xlsx')"
   ]
  },
  {
   "cell_type": "code",
   "execution_count": 61,
   "metadata": {},
   "outputs": [],
   "source": [
    "#median/ average income\n",
    "states=[]\n",
    "averages= []\n",
    "medians= []\n",
    "\n",
    "url = \"https://www.sofi.com/learn/content/average-salary-in-us/\"\n",
    "r = requests.get(url)\n",
    "text = r.text\n",
    "soup= BeautifulSoup(r.text)\n",
    "trs = soup.find_all('tr')\n",
    "\n",
    "for row in trs:  \n",
    "    cols = row.find_all(\"td\")  # Get all columns in the row\n",
    "    if len(cols) >= 3:  # Ensure it has enough columns\n",
    "        states.append(cols[0].text.strip())\n",
    "        averages.append(int(cols[1].text.replace(\"$\", \"\").replace(\",\", \"\")))\n",
    "        medians.append(int(cols[2].text.replace(\"$\", \"\").replace(\",\", \"\")))\n",
    "medavgdf = pd.DataFrame({'State':states, 'Average':averages, 'Median':medians})"
   ]
  },
  {
   "cell_type": "code",
   "execution_count": 42,
   "metadata": {},
   "outputs": [
    {
     "name": "stdout",
     "output_type": "stream",
     "text": [
      "[]\n"
     ]
    }
   ],
   "source": [
    "#starbucks data\n",
    "service = Service(ChromeDriverManager().install())\n",
    "driver = webdriver.Chrome(service=service)\n",
    "driver.get(\"https://www.dailymail.co.uk/yourmoney/consumer/article-13320199/starbucks-coffee-prices-us.html\")\n",
    "html = driver.page_source\n",
    "soup = BeautifulSoup(html, \"html.parser\")\n",
    "\n",
    "# Now try finding the rows\n",
    "rows = soup.find_all(class_=['datawrapper-xp8Z2-1c5djey', 'svelte-1smti70'])\n",
    "print(rows)\n",
    "\n",
    "# url = \"https://www.dailymail.co.uk/yourmoney/consumer/article-13320199/starbucks-coffee-prices-us.html\"\n",
    "# r = requests.get(url)\n",
    "# text = r.text\n",
    "# soup= BeautifulSoup(r.text)\n",
    "# # tr_tags = soup.find_all(class_='datawrapper-xp8Z2-1c5djey')\n",
    "# # tr_tags\n",
    "# rows = soup.find_all(class_=['datawrapper-xp8Z2-1c5djey', 'svelte-1smti70'])\n",
    "# rows\n",
    "# print(soup.prettify())"
   ]
  },
  {
   "cell_type": "code",
   "execution_count": 34,
   "metadata": {},
   "outputs": [],
   "source": [
    "# titles = soup.find_all('titles', {'class':'PromoImageOnTopCircular-subtitle'})\n",
    "# divs = soup.find_all('div', {'class':'PromoImageOnTopCircular-description'})\n",
    "\n",
    "# names = []\n",
    "# links = []\n",
    "# for h3 in h3_tags:\n",
    "#     name = h3.get_text().strip()\n",
    "#     link = h3.find('a')['href']\n",
    "#     names.append(name)\n",
    "#     links.append(link)\n",
    "\n",
    "# titles = []\n",
    "# for div in divs:\n",
    "#     title = div.get_text().strip()\n",
    "#     titles.append(title)\n",
    "\n",
    "# df = pd.DataFrame({'name':names, 'Titles':titles, 'links':links})\n",
    "\n",
    "# websites = []\n",
    "# emails = []\n",
    "# offices = []    \n",
    "# phones = []\n",
    "# for link in df['links']:\n",
    "#     r_sub = requests.get(link)\n",
    "#     soup_sub = BeautifulSoup(r_sub.text)\n",
    "#     try:\n",
    "#         website = soup_sub.find('div', {'class':\"EmployeePage-websiteLink\"}).get_text().strip()\n",
    "#         websites.append(website)\n",
    "#     except:\n",
    "#         websites.append('None')\n",
    "#     try:\n",
    "#         email = soup_sub.find('div', {'class':\"EmployeePage-email\"}).get_text().strip()\n",
    "#         emails.append(email)\n",
    "#     except:\n",
    "#         emails.append('None')\n",
    "#     try:\n",
    "#         phone = soup_sub.find('div', {'class':\"EmployeePage-phoneNumber\"}).get_text().strip()\n",
    "#         phones.append(phone)\n",
    "#     except:\n",
    "#         phones.append('None')\n",
    "#     try:\n",
    "#         office = soup_sub.find('div', {'class':\"EmployeePage-address\"}).get_text().strip()\n",
    "#         offices.append(office)\n",
    "#     except:\n",
    "#         offices.append('None')\n",
    "\n",
    "# new_data = pd.DataFrame({'links':links, 'websites':websites, 'emails':emails, 'phones':phones, 'offices':offices})\n",
    "# df = pd.concat([df, new_data], axis=1)\n",
    "\n",
    "# df =df.drop('links', axis=1)\n",
    "# #df\n"
   ]
  },
  {
   "cell_type": "code",
   "execution_count": 69,
   "metadata": {},
   "outputs": [],
   "source": [
    "#cost of living\n",
    "livingcostdf = pd.read_json(\"cost-of-living-index-by-state-2025.json\")  # Read JSON file directly\n",
    "livingcostdf = livingcostdf.drop(columns=['stateFlagCode'])\n",
    "livingcostdf = livingcostdf.rename(columns={\n",
    "    \"CostOfLivingIndex_CostOfLivingIndex_num_2024\": \"CostOfLivingIndex\",\n",
    "    \"CostOfLivingIndex_GroceriesCostsIndex_num_2024\": \"GroceriesCostsIndex\",\n",
    "    \"CostOfLivingIndex_HousingCostsIndex_num_2024\": \"HousingCostsIndex\",\n",
    "    \"CostOfLivingIndex_TransportationCostsIndex_num_2024\": \"TransportationCostsIndex\",\n",
    "    \"CostOfLivingIndex_UtilitiesCostsIndex_num_2024\": \"UtilitiesCostsIndex\",\n",
    "    \"CostOfLivingIndex_HealthCareCostsIndex_num_2024\": \"HealthCareCostsIndex\",\n",
    "    \"CostOfLivingIndex_MiscellaneousGoodsServicesCostsIndex_num_2024\": \"MiscellaneousGoodsServicesCostsIndex\"\n",
    "})\n",
    "livingcostdf= livingcostdf.sort_values(by='state').reset_index(drop=True)\n"
   ]
  },
  {
   "cell_type": "code",
   "execution_count": 3,
   "metadata": {},
   "outputs": [],
   "source": [
    "#fast food prices\n",
    "fastfooddf = pd.read_json(\"fast-food-prices-by-state-2025.json\")"
   ]
  }
 ],
 "metadata": {
  "kernelspec": {
   "display_name": "my_env",
   "language": "python",
   "name": "python3"
  },
  "language_info": {
   "codemirror_mode": {
    "name": "ipython",
    "version": 3
   },
   "file_extension": ".py",
   "mimetype": "text/x-python",
   "name": "python",
   "nbconvert_exporter": "python",
   "pygments_lexer": "ipython3",
   "version": "3.12.8"
  }
 },
 "nbformat": 4,
 "nbformat_minor": 2
}
