{
 "cells": [
  {
   "cell_type": "code",
   "execution_count": 2,
   "metadata": {},
   "outputs": [],
   "source": [
    "import pandas as pd\n",
    "import numpy as np\n",
    "import requests\n",
    "import re\n",
    "import urllib.parse\n",
    "import matplotlib.pyplot as plt\n",
    "import seaborn as sns\n",
    "import plotly.express as px\n",
    "from pathlib import Path\n",
    "import json\n",
    "from bs4 import BeautifulSoup\n",
    "from selenium import webdriver\n",
    "from selenium.webdriver.chrome.service import Service\n",
    "from selenium.webdriver.common.by import By\n",
    "from webdriver_manager.chrome import ChromeDriverManager"
   ]
  },
  {
   "cell_type": "code",
   "execution_count": 31,
   "metadata": {},
   "outputs": [],
   "source": [
    "#Mcdonalds Big Mac Index\n",
    "Mcdf = pd.read_json(\"big-mac-index-by-state-2024.json\")  # Read JSON file directly\n",
    "Mcdf= Mcdf.rename(columns={\"BigMacIndexByState2023\": \"McdonaldsBigMac2023\"})"
   ]
  },
  {
   "cell_type": "code",
   "execution_count": 39,
   "metadata": {},
   "outputs": [],
   "source": [
    "#Minimum Wage data\n",
    "#excel to dataframe\n",
    "minwagedf = pd.read_csv('minimum-wage-2024-by-state2.csv')\n",
    "minwagedf = minwagedf.sort_values(by='state').reset_index(drop=True)\n"
   ]
  },
  {
   "cell_type": "code",
   "execution_count": 28,
   "metadata": {},
   "outputs": [],
   "source": [
    "#median/ average income\n",
    "states=[]\n",
    "averages= []\n",
    "medians= []\n",
    "\n",
    "url = \"https://www.sofi.com/learn/content/average-salary-in-us/\"\n",
    "r = requests.get(url)\n",
    "text = r.text\n",
    "soup= BeautifulSoup(r.text)\n",
    "trs = soup.find_all('tr')\n",
    "\n",
    "for row in trs:  \n",
    "    cols = row.find_all(\"td\")  # Get all columns in the row\n",
    "    if len(cols) >= 3:  # Ensure it has enough columns\n",
    "        states.append(cols[0].text.strip())\n",
    "        averages.append(int(cols[1].text.replace(\"$\", \"\").replace(\",\", \"\")))\n",
    "        medians.append(int(cols[2].text.replace(\"$\", \"\").replace(\",\", \"\")))\n",
    "medavgdf = pd.DataFrame({'State':states, 'Average':averages, 'Median':medians})\n",
    "medavgdf= medavgdf.rename(columns={\"State\": \"state\"})\n"
   ]
  },
  {
   "cell_type": "code",
   "execution_count": 29,
   "metadata": {},
   "outputs": [],
   "source": [
    "#cost of living\n",
    "livingcostdf = pd.read_json(\"cost-of-living-index-by-state-2025.json\")  # Read JSON file directly\n",
    "livingcostdf = livingcostdf.drop(columns=['stateFlagCode'])\n",
    "livingcostdf = livingcostdf.rename(columns={\n",
    "    \"CostOfLivingIndex_CostOfLivingIndex_num_2024\": \"CostOfLivingIndex\",\n",
    "    \"CostOfLivingIndex_GroceriesCostsIndex_num_2024\": \"GroceriesCostsIndex\",\n",
    "    \"CostOfLivingIndex_HousingCostsIndex_num_2024\": \"HousingCostsIndex\",\n",
    "    \"CostOfLivingIndex_TransportationCostsIndex_num_2024\": \"TransportationCostsIndex\",\n",
    "    \"CostOfLivingIndex_UtilitiesCostsIndex_num_2024\": \"UtilitiesCostsIndex\",\n",
    "    \"CostOfLivingIndex_HealthCostsIndex_num_2024\": \"HealthCareCostsIndex\",\n",
    "    \"CostOfLivingIndex_MiscCostsIndex_num_2024\": \"MiscellaneousGoodsServicesCostsIndex\"\n",
    "})\n",
    "livingcostdf= livingcostdf.sort_values(by='state').reset_index(drop=True)\n"
   ]
  },
  {
   "cell_type": "code",
   "execution_count": 30,
   "metadata": {},
   "outputs": [],
   "source": [
    "#fast food prices\n",
    "fastfooddf = pd.read_json(\"fast-food-prices-by-state-2025.json\")\n",
    "fastfooddf = fastfooddf.drop(columns=['stateFlagCode'])\n",
    "fastfooddf = fastfooddf.rename(columns={\n",
    "    \"FastFoodPricesDominosMedCheese\": \"DominosMedCheese\",\n",
    "    \"FastFoodPricesMcDonaldsHappyMeal\": \"McDonaldsHappyMeal\",\n",
    "    \"FastFoodPricesMcDonaldsBigMac\": \"McDonaldsBigMac2025\",\n",
    "    \"FastFoodPricesChickfilAChickenSandwich\": \"ChickfilAChickenSandwich\",\n",
    "    \"FastFoodPricesTacoBellComboMeal\": \"TacoBellComboMeal\"\n",
    "})\n",
    "fastfooddf= fastfooddf.sort_values(by='state').reset_index(drop=True)"
   ]
  },
  {
   "cell_type": "code",
   "execution_count": 41,
   "metadata": {},
   "outputs": [],
   "source": [
    "#combine all df into one on state\n",
    "combined_df = medavgdf.merge(livingcostdf, on='state', how='outer') \\\n",
    "                      .merge(minwagedf, on='state', how='outer') \\\n",
    "                      .merge(Mcdf, on='state', how='outer') \\\n",
    "                      .merge(fastfooddf, on='state', how='outer')\n",
    "\n",
    "combined_df\n",
    "combined_df.to_csv('fast_food_analysis.csv', index=False)"
   ]
  }
 ],
 "metadata": {
  "kernelspec": {
   "display_name": "my_env",
   "language": "python",
   "name": "python3"
  },
  "language_info": {
   "codemirror_mode": {
    "name": "ipython",
    "version": 3
   },
   "file_extension": ".py",
   "mimetype": "text/x-python",
   "name": "python",
   "nbconvert_exporter": "python",
   "pygments_lexer": "ipython3",
   "version": "3.12.8"
  }
 },
 "nbformat": 4,
 "nbformat_minor": 2
}
