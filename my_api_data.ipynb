{
 "cells": [
  {
   "cell_type": "code",
   "execution_count": 2,
   "metadata": {},
   "outputs": [],
   "source": [
    "import pandas as pd\n",
    "import numpy as np\n",
    "import requests\n",
    "import re\n",
    "import urllib.parse\n",
    "import matplotlib.pyplot as plt\n",
    "import seaborn as sns\n",
    "import plotly.express as px\n",
    "from pathlib import Path"
   ]
  },
  {
   "cell_type": "code",
   "execution_count": 6,
   "metadata": {},
   "outputs": [],
   "source": [
    "base_url = \"https://api.apilayer.com/exchangerates_data\"\n",
    "endpoint = '/symbols'\n",
    "url = base_url + endpoint"
   ]
  },
  {
   "cell_type": "code",
   "execution_count": 8,
   "metadata": {},
   "outputs": [],
   "source": [
    "#url = \"https://api.yelp.com/v3/businesses/search?location=Alabama&term=McDonald%27s&categories=bigmac&open_now=true&sort_by=best_match&limit=20\"\n",
    "url = \"https://api.yelp.com/v3/businesses/search\"\n",
    "with open(\"yelp_api_key.txt\", 'r') as f:\n",
    "    yelp_key = f.read()\n",
    "\n",
    "HEADERS = {\"Authorization\": f\"Bearer {yelp_key}\"}\n",
    "LOCATION = \"New York\"\n",
    "SEARCH_TERM = \"McDonald's\"\n",
    "\n",
    "# headers = {\n",
    "#     \"accept\": \"application/json\",\n",
    "#     \"authorization\": \"Bearer \" + yelp_key\n",
    "# }\n",
    "state_names=[\"Alabama\", \"Alaska\", \"Arizona\", \"Arkansas\", \"California\", \"Colorado\", \"Connecticut\", \"Delaware\", \"Florida\", \"Georgia\", \"Hawaii\", \"Idaho\", \"Illinois\", \"Indiana\", \"Iowa\", \"Kansas\", \"Kentucky\", \"Louisiana\", \"Maine\", \"Maryland\", \"Massachusetts\", \"Michigan\", \"Minnesota\", \"Mississippi\", \"Missouri\", \"Montana\", \"Nebraska\", \"Nevada\", \"New Hampshire\", \"New Jersey\", \"New Mexico\", \"New York\", \"North Carolina\", \"North Dakota\", \"Ohio\", \"Oklahoma\", \"Oregon\", \"Pennsylvania\", \"Rhode Island\", \"South Carolina\", \"South Dakota\", \"Tennessee\", \"Texas\", \"Utah\", \"Vermont\", \"Virginia\", \"Washington\", \"West Virginia\", \"Wisconsin\", \"Wyoming\"]\n",
    "\n",
    "r = requests.get(url, headers=HEADERS, params = {\"location\": LOCATION, \"term\": SEARCH_TERM, \"categories\": \"bigmac\",\"sort_by\": \"best_match\", \"limit\": 50})\n",
    "\n",
    "df = pd.DataFrame(r.json()[\"businesses\"])"
   ]
  },
  {
   "cell_type": "code",
   "execution_count": 9,
   "metadata": {},
   "outputs": [],
   "source": [
    "#df to csv\n",
    "df.to_csv(\"my_api_data.csv\", index=False)"
   ]
  }
 ],
 "metadata": {
  "kernelspec": {
   "display_name": "my_env",
   "language": "python",
   "name": "python3"
  },
  "language_info": {
   "codemirror_mode": {
    "name": "ipython",
    "version": 3
   },
   "file_extension": ".py",
   "mimetype": "text/x-python",
   "name": "python",
   "nbconvert_exporter": "python",
   "pygments_lexer": "ipython3",
   "version": "3.12.8"
  }
 },
 "nbformat": 4,
 "nbformat_minor": 2
}
